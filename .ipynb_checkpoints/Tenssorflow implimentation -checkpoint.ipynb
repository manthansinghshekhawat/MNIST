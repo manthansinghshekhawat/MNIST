{
 "cells": [
  {
   "cell_type": "code",
   "execution_count": 1,
   "id": "80d12d61",
   "metadata": {},
   "outputs": [],
   "source": [
    "import tensorflow as tf \n",
    "import numpy as np \n",
    "import pandas as pd \n",
    "import matplotlib.pyplot as plt "
   ]
  },
  {
   "cell_type": "code",
   "execution_count": 2,
   "id": "8a49c777",
   "metadata": {},
   "outputs": [
    {
     "data": {
      "text/plain": [
       "'2.8.0'"
      ]
     },
     "execution_count": 2,
     "metadata": {},
     "output_type": "execute_result"
    }
   ],
   "source": [
    "tf.__version__"
   ]
  },
  {
   "cell_type": "code",
   "execution_count": 3,
   "id": "87a223e8",
   "metadata": {},
   "outputs": [
    {
     "data": {
      "text/plain": [
       "[LogicalDevice(name='/device:CPU:0', device_type='CPU'),\n",
       " LogicalDevice(name='/device:GPU:0', device_type='GPU')]"
      ]
     },
     "execution_count": 3,
     "metadata": {},
     "output_type": "execute_result"
    }
   ],
   "source": [
    "tf.config.list_logical_devices()"
   ]
  },
  {
   "cell_type": "code",
   "execution_count": 4,
   "id": "b0cd7feb",
   "metadata": {},
   "outputs": [],
   "source": [
    "mnist = tf.keras.datasets.mnist\n",
    "(X_train_full, y_train_full), (X_test, y_test) = mnist.load_data()"
   ]
  },
  {
   "cell_type": "code",
   "execution_count": 5,
   "id": "f770d1d4",
   "metadata": {},
   "outputs": [
    {
     "data": {
      "text/plain": [
       "(60000, 28, 28)"
      ]
     },
     "execution_count": 5,
     "metadata": {},
     "output_type": "execute_result"
    }
   ],
   "source": [
    "X_train_full.shape"
   ]
  },
  {
   "cell_type": "code",
   "execution_count": 6,
   "id": "027b7071",
   "metadata": {},
   "outputs": [
    {
     "data": {
      "text/plain": [
       "(60000,)"
      ]
     },
     "execution_count": 6,
     "metadata": {},
     "output_type": "execute_result"
    }
   ],
   "source": [
    "y_train_full.shape"
   ]
  },
  {
   "cell_type": "code",
   "execution_count": 7,
   "id": "d5c46c7b",
   "metadata": {},
   "outputs": [
    {
     "data": {
      "text/plain": [
       "(10000, 28, 28)"
      ]
     },
     "execution_count": 7,
     "metadata": {},
     "output_type": "execute_result"
    }
   ],
   "source": [
    "X_test.shape"
   ]
  },
  {
   "cell_type": "code",
   "execution_count": 8,
   "id": "553fadcc",
   "metadata": {},
   "outputs": [
    {
     "data": {
      "text/plain": [
       "dtype('uint8')"
      ]
     },
     "execution_count": 8,
     "metadata": {},
     "output_type": "execute_result"
    }
   ],
   "source": [
    "X_train_full.dtype"
   ]
  },
  {
   "cell_type": "markdown",
   "id": "6736d2d9",
   "metadata": {},
   "source": [
    "## Scaling the data to make it from 0 to 1 and can easily interpret "
   ]
  },
  {
   "cell_type": "code",
   "execution_count": 9,
   "id": "48c48aef",
   "metadata": {},
   "outputs": [],
   "source": [
    "X_valid, X_train = X_train_full[:5000] / 255.0 , X_train_full[5000:] / 255.0\n",
    "y_valid, y_train = y_train_full[:5000], y_train_full[5000:]\n"
   ]
  },
  {
   "cell_type": "code",
   "execution_count": 10,
   "id": "b2497d10",
   "metadata": {},
   "outputs": [
    {
     "data": {
      "text/plain": [
       "(-0.5, 27.5, 27.5, -0.5)"
      ]
     },
     "execution_count": 10,
     "metadata": {},
     "output_type": "execute_result"
    },
    {
     "data": {
      "image/png": "[encoded data removed]",
      "text/plain": [
       "<Figure size 432x288 with 1 Axes>"
      ]
     },
     "metadata": {
      "needs_background": "light"
     },
     "output_type": "display_data"
    }
   ],
   "source": [
    "plt.imshow(X_train[1000], cmap=\"binary\")\n",
    "plt.axis(\"off\")\n"
   ]
  },
  {
   "cell_type": "code",
   "execution_count": 11,
   "id": "fd6d49e9",
   "metadata": {},
   "outputs": [
    {
     "ename": "ModuleNotFoundError",
     "evalue": "No module named 'seaborn'",
     "output_type": "error",
     "traceback": [
      "\u001b[1;31m---------------------------------------------------------------------------\u001b[0m",
      "\u001b[1;31mModuleNotFoundError\u001b[0m                       Traceback (most recent call last)",
      "Input \u001b[1;32mIn [11]\u001b[0m, in \u001b[0;36m<cell line: 1>\u001b[1;34m()\u001b[0m\n\u001b[1;32m----> 1\u001b[0m \u001b[38;5;28;01mimport\u001b[39;00m \u001b[38;5;21;01mseaborn\u001b[39;00m \u001b[38;5;28;01mas\u001b[39;00m \u001b[38;5;21;01msns\u001b[39;00m\n\u001b[0;32m      2\u001b[0m plt\u001b[38;5;241m.\u001b[39mfigure(figsize\u001b[38;5;241m=\u001b[39m(\u001b[38;5;241m15\u001b[39m,\u001b[38;5;241m15\u001b[39m))\n\u001b[0;32m      3\u001b[0m sns\u001b[38;5;241m.\u001b[39mheatmap(X_train[\u001b[38;5;241m0\u001b[39m], annot\u001b[38;5;241m=\u001b[39m\u001b[38;5;28;01mTrue\u001b[39;00m, cmap\u001b[38;5;241m=\u001b[39m\u001b[38;5;124m\"\u001b[39m\u001b[38;5;124mbinary\u001b[39m\u001b[38;5;124m\"\u001b[39m)\n",
      "\u001b[1;31mModuleNotFoundError\u001b[0m: No module named 'seaborn'"
     ]
    }
   ],
   "source": [
    "import seaborn as sns\n",
    "plt.figure(figsize=(15,15))\n",
    "sns.heatmap(X_train[0], annot=True, cmap=\"binary\")"
   ]
  },
  {
   "cell_type": "code",
   "execution_count": null,
   "id": "cb541eb3",
   "metadata": {},
   "outputs": [],
   "source": [
    "LAYERS = [tf.keras.layers.Flatten(input_shape=[28, 28], name=\"inputLayer\"),\n",
    "          tf.keras.layers.Dense(300, activation=\"relu\", name=\"hiddenLayer1\"),\n",
    "          tf.keras.layers.Dense(100, activation=\"relu\", name=\"hiddenLayer2\"),\n",
    "          tf.keras.layers.Dense(10, activation=\"softmax\", name=\"outputLayer\")]"
   ]
  },
  {
   "cell_type": "code",
   "execution_count": null,
   "id": "a1140854",
   "metadata": {},
   "outputs": [],
   "source": [
    "model_clf = tf.keras.models.Sequential(LAYERS)"
   ]
  },
  {
   "cell_type": "code",
   "execution_count": 12,
   "id": "7b6aec86",
   "metadata": {},
   "outputs": [
    {
     "ename": "NameError",
     "evalue": "name 'model_clf' is not defined",
     "output_type": "error",
     "traceback": [
      "\u001b[1;31m---------------------------------------------------------------------------\u001b[0m",
      "\u001b[1;31mNameError\u001b[0m                                 Traceback (most recent call last)",
      "Input \u001b[1;32mIn [12]\u001b[0m, in \u001b[0;36m<cell line: 1>\u001b[1;34m()\u001b[0m\n\u001b[1;32m----> 1\u001b[0m \u001b[43mmodel_clf\u001b[49m\u001b[38;5;241m.\u001b[39mlayers\n",
      "\u001b[1;31mNameError\u001b[0m: name 'model_clf' is not defined"
     ]
    }
   ],
   "source": [
    "model_clf.layers"
   ]
  },
  {
   "cell_type": "code",
   "execution_count": 13,
   "id": "367d6c29",
   "metadata": {},
   "outputs": [
    {
     "ename": "NameError",
     "evalue": "name 'model_clf' is not defined",
     "output_type": "error",
     "traceback": [
      "\u001b[1;31m---------------------------------------------------------------------------\u001b[0m",
      "\u001b[1;31mNameError\u001b[0m                                 Traceback (most recent call last)",
      "Input \u001b[1;32mIn [13]\u001b[0m, in \u001b[0;36m<cell line: 1>\u001b[1;34m()\u001b[0m\n\u001b[1;32m----> 1\u001b[0m \u001b[43mmodel_clf\u001b[49m\u001b[38;5;241m.\u001b[39msummary()\n",
      "\u001b[1;31mNameError\u001b[0m: name 'model_clf' is not defined"
     ]
    }
   ],
   "source": [
    "model_clf.summary()"
   ]
  },
  {
   "cell_type": "code",
   "execution_count": 14,
   "id": "a36707dc",
   "metadata": {},
   "outputs": [
    {
     "ename": "NameError",
     "evalue": "name 'model_clf' is not defined",
     "output_type": "error",
     "traceback": [
      "\u001b[1;31m---------------------------------------------------------------------------\u001b[0m",
      "\u001b[1;31mNameError\u001b[0m                                 Traceback (most recent call last)",
      "Input \u001b[1;32mIn [14]\u001b[0m, in \u001b[0;36m<cell line: 1>\u001b[1;34m()\u001b[0m\n\u001b[1;32m----> 1\u001b[0m hidden1 \u001b[38;5;241m=\u001b[39m \u001b[43mmodel_clf\u001b[49m\u001b[38;5;241m.\u001b[39mlayers[\u001b[38;5;241m1\u001b[39m]\n\u001b[0;32m      2\u001b[0m hidden1\u001b[38;5;241m.\u001b[39mname\n",
      "\u001b[1;31mNameError\u001b[0m: name 'model_clf' is not defined"
     ]
    }
   ],
   "source": [
    "hidden1 = model_clf.layers[1]\n",
    "hidden1.name"
   ]
  },
  {
   "cell_type": "code",
   "execution_count": 15,
   "id": "6bdec281",
   "metadata": {},
   "outputs": [
    {
     "ename": "NameError",
     "evalue": "name 'hidden1' is not defined",
     "output_type": "error",
     "traceback": [
      "\u001b[1;31m---------------------------------------------------------------------------\u001b[0m",
      "\u001b[1;31mNameError\u001b[0m                                 Traceback (most recent call last)",
      "Input \u001b[1;32mIn [15]\u001b[0m, in \u001b[0;36m<cell line: 1>\u001b[1;34m()\u001b[0m\n\u001b[1;32m----> 1\u001b[0m \u001b[43mhidden1\u001b[49m\u001b[38;5;241m.\u001b[39mget_weights()\n",
      "\u001b[1;31mNameError\u001b[0m: name 'hidden1' is not defined"
     ]
    }
   ],
   "source": [
    "hidden1.get_weights()"
   ]
  },
  {
   "cell_type": "code",
   "execution_count": 16,
   "id": "bc721175",
   "metadata": {},
   "outputs": [
    {
     "ename": "NameError",
     "evalue": "name 'model_clf' is not defined",
     "output_type": "error",
     "traceback": [
      "\u001b[1;31m---------------------------------------------------------------------------\u001b[0m",
      "\u001b[1;31mNameError\u001b[0m                                 Traceback (most recent call last)",
      "Input \u001b[1;32mIn [16]\u001b[0m, in \u001b[0;36m<cell line: 5>\u001b[1;34m()\u001b[0m\n\u001b[0;32m      2\u001b[0m OPTIMIZER \u001b[38;5;241m=\u001b[39m \u001b[38;5;124m\"\u001b[39m\u001b[38;5;124mSGD\u001b[39m\u001b[38;5;124m\"\u001b[39m \u001b[38;5;66;03m# or use with custom learning rate=> tf.keras.optimizers.SGD(0.02)\u001b[39;00m\n\u001b[0;32m      3\u001b[0m METRICS \u001b[38;5;241m=\u001b[39m [\u001b[38;5;124m\"\u001b[39m\u001b[38;5;124maccuracy\u001b[39m\u001b[38;5;124m\"\u001b[39m]\n\u001b[1;32m----> 5\u001b[0m \u001b[43mmodel_clf\u001b[49m\u001b[38;5;241m.\u001b[39mcompile(loss\u001b[38;5;241m=\u001b[39mLOSS_FUNCTION,\n\u001b[0;32m      6\u001b[0m               optimizer\u001b[38;5;241m=\u001b[39mOPTIMIZER,\n\u001b[0;32m      7\u001b[0m               metrics\u001b[38;5;241m=\u001b[39mMETRICS)\n",
      "\u001b[1;31mNameError\u001b[0m: name 'model_clf' is not defined"
     ]
    }
   ],
   "source": [
    "LOSS_FUNCTION = \"sparse_categorical_crossentropy\" # use => tf.losses.sparse_categorical_crossentropy\n",
    "OPTIMIZER = \"SGD\" # or use with custom learning rate=> tf.keras.optimizers.SGD(0.02)\n",
    "METRICS = [\"accuracy\"]\n",
    "\n",
    "model_clf.compile(loss=LOSS_FUNCTION,\n",
    "              optimizer=OPTIMIZER,\n",
    "              metrics=METRICS)\n"
   ]
  },
  {
   "cell_type": "code",
   "execution_count": 17,
   "id": "9a773549",
   "metadata": {},
   "outputs": [
    {
     "name": "stdout",
     "output_type": "stream",
     "text": [
      "saving logs at: logs/fit\\log_2022_05_17_05_28_47\n"
     ]
    }
   ],
   "source": [
    "import time\n",
    "import os\n",
    "\n",
    "def get_log_path(log_dir=\"logs/fit\"):\n",
    "  fileName = time.strftime(\"log_%Y_%m_%d_%H_%M_%S\")\n",
    "  log_path = os.path.join(log_dir, fileName)\n",
    "  print(f\"saving logs at: {log_path}\")\n",
    "  return log_path\n",
    "\n",
    "log_dir = get_log_path()\n",
    "\n",
    "tb_cb = tf.keras.callbacks.TensorBoard(log_dir=log_dir)"
   ]
  },
  {
   "cell_type": "code",
   "execution_count": 18,
   "id": "dc94b95f",
   "metadata": {},
   "outputs": [],
   "source": [
    "early_stopping_cb = tf.keras.callbacks.EarlyStopping(patience=5, restore_best_weights=True)"
   ]
  },
  {
   "cell_type": "code",
   "execution_count": 42,
   "id": "10a42bd4",
   "metadata": {},
   "outputs": [],
   "source": [
    "\n",
    "CKPT_path = \"model_ckpt.h5\"\n",
    "checkpointing_cb = tf.keras.callbacks.ModelCheckpoint(CKPT_path, save_best_only=True)"
   ]
  },
  {
   "cell_type": "code",
   "execution_count": 43,
   "id": "2e9d1867",
   "metadata": {},
   "outputs": [
    {
     "name": "stdout",
     "output_type": "stream",
     "text": [
      "Epoch 1/30\n",
      "1719/1719 [==============================] - 14s 7ms/step - loss: 0.6287 - accuracy: 0.8385 - val_loss: 0.3070 - val_accuracy: 0.9198\n",
      "Epoch 2/30\n",
      "1719/1719 [==============================] - 10s 6ms/step - loss: 0.2896 - accuracy: 0.9174 - val_loss: 0.2441 - val_accuracy: 0.9306\n",
      "Epoch 3/30\n",
      "1719/1719 [==============================] - 9s 5ms/step - loss: 0.2356 - accuracy: 0.9326 - val_loss: 0.2071 - val_accuracy: 0.9412\n",
      "Epoch 4/30\n",
      "1719/1719 [==============================] - 11s 6ms/step - loss: 0.2015 - accuracy: 0.9419 - val_loss: 0.1778 - val_accuracy: 0.9502\n",
      "Epoch 5/30\n",
      "1719/1719 [==============================] - 10s 6ms/step - loss: 0.1763 - accuracy: 0.9491 - val_loss: 0.1612 - val_accuracy: 0.9552\n",
      "Epoch 6/30\n",
      "1719/1719 [==============================] - 10s 6ms/step - loss: 0.1568 - accuracy: 0.9559 - val_loss: 0.1461 - val_accuracy: 0.9598\n",
      "Epoch 7/30\n",
      "1719/1719 [==============================] - 10s 6ms/step - loss: 0.1410 - accuracy: 0.9599 - val_loss: 0.1372 - val_accuracy: 0.9628\n",
      "Epoch 8/30\n",
      "1719/1719 [==============================] - 11s 6ms/step - loss: 0.1274 - accuracy: 0.9634 - val_loss: 0.1254 - val_accuracy: 0.9678\n",
      "Epoch 9/30\n",
      "1719/1719 [==============================] - 10s 6ms/step - loss: 0.1161 - accuracy: 0.9677 - val_loss: 0.1208 - val_accuracy: 0.9680\n",
      "Epoch 10/30\n",
      "1719/1719 [==============================] - 10s 6ms/step - loss: 0.1066 - accuracy: 0.9699 - val_loss: 0.1113 - val_accuracy: 0.9728\n",
      "Epoch 11/30\n",
      "1719/1719 [==============================] - 10s 6ms/step - loss: 0.0980 - accuracy: 0.9726 - val_loss: 0.1058 - val_accuracy: 0.9724\n",
      "Epoch 12/30\n",
      "1719/1719 [==============================] - 10s 6ms/step - loss: 0.0904 - accuracy: 0.9747 - val_loss: 0.1026 - val_accuracy: 0.9720\n",
      "Epoch 13/30\n",
      "1719/1719 [==============================] - 9s 5ms/step - loss: 0.0840 - accuracy: 0.9764 - val_loss: 0.0966 - val_accuracy: 0.9740\n",
      "Epoch 14/30\n",
      "1719/1719 [==============================] - 10s 6ms/step - loss: 0.0779 - accuracy: 0.9789 - val_loss: 0.0911 - val_accuracy: 0.9754\n",
      "Epoch 15/30\n",
      "1719/1719 [==============================] - 13s 7ms/step - loss: 0.0725 - accuracy: 0.9801 - val_loss: 0.0882 - val_accuracy: 0.9748\n",
      "Epoch 16/30\n",
      "1719/1719 [==============================] - 15s 9ms/step - loss: 0.0677 - accuracy: 0.9814 - val_loss: 0.0889 - val_accuracy: 0.9748\n",
      "Epoch 17/30\n",
      "1719/1719 [==============================] - 13s 7ms/step - loss: 0.0632 - accuracy: 0.9831 - val_loss: 0.0835 - val_accuracy: 0.9760\n",
      "Epoch 18/30\n",
      "1719/1719 [==============================] - 14s 8ms/step - loss: 0.0591 - accuracy: 0.9844 - val_loss: 0.0809 - val_accuracy: 0.9758\n",
      "Epoch 19/30\n",
      "1719/1719 [==============================] - 11s 6ms/step - loss: 0.0555 - accuracy: 0.9852 - val_loss: 0.0800 - val_accuracy: 0.9754\n",
      "Epoch 20/30\n",
      "1719/1719 [==============================] - 11s 6ms/step - loss: 0.0521 - accuracy: 0.9863 - val_loss: 0.0779 - val_accuracy: 0.9768\n",
      "Epoch 21/30\n",
      "1719/1719 [==============================] - 11s 6ms/step - loss: 0.0489 - accuracy: 0.9869 - val_loss: 0.0784 - val_accuracy: 0.9768\n",
      "Epoch 22/30\n",
      "1719/1719 [==============================] - 11s 7ms/step - loss: 0.0459 - accuracy: 0.9883 - val_loss: 0.0754 - val_accuracy: 0.9782\n",
      "Epoch 23/30\n",
      "1719/1719 [==============================] - 14s 8ms/step - loss: 0.0431 - accuracy: 0.9889 - val_loss: 0.0741 - val_accuracy: 0.9782\n",
      "Epoch 24/30\n",
      "1719/1719 [==============================] - 13s 7ms/step - loss: 0.0409 - accuracy: 0.9896 - val_loss: 0.0746 - val_accuracy: 0.9772\n",
      "Epoch 25/30\n",
      "1719/1719 [==============================] - 11s 7ms/step - loss: 0.0383 - accuracy: 0.9903 - val_loss: 0.0735 - val_accuracy: 0.9784\n",
      "Epoch 26/30\n",
      "1719/1719 [==============================] - 12s 7ms/step - loss: 0.0360 - accuracy: 0.9911 - val_loss: 0.0721 - val_accuracy: 0.9782\n",
      "Epoch 27/30\n",
      "1719/1719 [==============================] - 17s 10ms/step - loss: 0.0340 - accuracy: 0.9918 - val_loss: 0.0707 - val_accuracy: 0.9800\n",
      "Epoch 28/30\n",
      "1719/1719 [==============================] - 12s 7ms/step - loss: 0.0321 - accuracy: 0.9924 - val_loss: 0.0716 - val_accuracy: 0.9788\n",
      "Epoch 29/30\n",
      "1719/1719 [==============================] - 13s 8ms/step - loss: 0.0304 - accuracy: 0.9929 - val_loss: 0.0708 - val_accuracy: 0.9786\n",
      "Epoch 30/30\n",
      "1719/1719 [==============================] - 11s 7ms/step - loss: 0.0287 - accuracy: 0.9938 - val_loss: 0.0706 - val_accuracy: 0.9796\n"
     ]
    }
   ],
   "source": [
    "EPOCHS = 30\n",
    "VALIDATION_SET = (X_valid, y_valid)\n",
    "\n",
    "history = model_clf.fit(X_train, y_train, epochs=EPOCHS,\n",
    "                    validation_data=VALIDATION_SET, batch_size=32, callbacks=[tb_cb, early_stopping_cb,\n",
    "                                                                              checkpointing_cb])\n"
   ]
  },
  {
   "cell_type": "code",
   "execution_count": 44,
   "id": "f300191a",
   "metadata": {},
   "outputs": [
    {
     "name": "stdout",
     "output_type": "stream",
     "text": [
      "Epoch 1/30\n",
      "1719/1719 [==============================] - 12s 7ms/step - loss: 0.0271 - accuracy: 0.9940 - val_loss: 0.0686 - val_accuracy: 0.9794\n",
      "Epoch 2/30\n",
      "1719/1719 [==============================] - 13s 8ms/step - loss: 0.0255 - accuracy: 0.9949 - val_loss: 0.0690 - val_accuracy: 0.9796\n",
      "Epoch 3/30\n",
      "1719/1719 [==============================] - 11s 6ms/step - loss: 0.0241 - accuracy: 0.9951 - val_loss: 0.0703 - val_accuracy: 0.9788\n",
      "Epoch 4/30\n",
      "1719/1719 [==============================] - 10s 6ms/step - loss: 0.0228 - accuracy: 0.9954 - val_loss: 0.0712 - val_accuracy: 0.9792\n",
      "Epoch 5/30\n",
      "1719/1719 [==============================] - 10s 6ms/step - loss: 0.0216 - accuracy: 0.9961 - val_loss: 0.0686 - val_accuracy: 0.9794\n",
      "Epoch 6/30\n",
      "1719/1719 [==============================] - 14s 8ms/step - loss: 0.0206 - accuracy: 0.9961 - val_loss: 0.0707 - val_accuracy: 0.9794\n"
     ]
    }
   ],
   "source": [
    "ckpt_model = tf.keras.models.load_model(CKPT_path)\n",
    "\n",
    "history = ckpt_model.fit(X_train, y_train, epochs=EPOCHS,\n",
    "                    validation_data=VALIDATION_SET, batch_size=32, callbacks=[tb_cb, early_stopping_cb,\n",
    "                                                                              checkpointing_cb])\n"
   ]
  },
  {
   "cell_type": "code",
   "execution_count": 45,
   "id": "33b79a4e",
   "metadata": {},
   "outputs": [],
   "source": [
    "import time \n",
    "import os\n",
    "\n",
    "def savedModel_path(model_dir=\"TRAINED_MODEL\"):\n",
    "  os.makedirs(model_dir, exist_ok=True)\n",
    "  fileName = time.strftime(\"Model_%Y_%m_%d_%H_%M_%S_.h5\")\n",
    "  model_path = os.path.join(model_dir, fileName)\n",
    "  print(f\"model {fileName} will be saved at {model_path}\")\n",
    "  return model_path "
   ]
  },
  {
   "cell_type": "code",
   "execution_count": 46,
   "id": "3f998a22",
   "metadata": {},
   "outputs": [
    {
     "name": "stdout",
     "output_type": "stream",
     "text": [
      "model Model_2022_04_27_20_21_47_.h5 will be saved at TRAINED_MODEL\\Model_2022_04_27_20_21_47_.h5\n"
     ]
    },
    {
     "data": {
      "text/plain": [
       "'TRAINED_MODEL\\\\Model_2022_04_27_20_21_47_.h5'"
      ]
     },
     "execution_count": 46,
     "metadata": {},
     "output_type": "execute_result"
    }
   ],
   "source": [
    "UNIQUE_PATH = savedModel_path()\n",
    "UNIQUE_PATH"
   ]
  },
  {
   "cell_type": "code",
   "execution_count": 47,
   "id": "906ec820",
   "metadata": {},
   "outputs": [],
   "source": [
    "tf.keras.models.save_model(model_clf, UNIQUE_PATH)"
   ]
  },
  {
   "cell_type": "code",
   "execution_count": 48,
   "id": "2919bbc9",
   "metadata": {},
   "outputs": [
    {
     "name": "stdout",
     "output_type": "stream",
     "text": [
      "313/313 [==============================] - 2s 6ms/step - loss: 13.0216 - accuracy: 0.9760\n"
     ]
    },
    {
     "data": {
      "text/plain": [
       "[13.021561622619629, 0.9760000109672546]"
      ]
     },
     "execution_count": 48,
     "metadata": {},
     "output_type": "execute_result"
    }
   ],
   "source": [
    "model_clf.evaluate(X_test, y_test)"
   ]
  },
  {
   "cell_type": "code",
   "execution_count": 49,
   "id": "6adb08c8",
   "metadata": {},
   "outputs": [
    {
     "data": {
      "text/plain": [
       "array([[0., 0., 0., 0., 0., 0., 0., 1., 0., 0.],\n",
       "       [0., 0., 1., 0., 0., 0., 0., 0., 0., 0.],\n",
       "       [0., 1., 0., 0., 0., 0., 0., 0., 0., 0.]], dtype=float32)"
      ]
     },
     "execution_count": 49,
     "metadata": {},
     "output_type": "execute_result"
    }
   ],
   "source": [
    "X_new = X_test[:3]\n",
    "\n",
    "y_prob = model_clf.predict(X_new)\n",
    "\n",
    "y_prob.round(4)"
   ]
  },
  {
   "cell_type": "code",
   "execution_count": 50,
   "id": "9fc3e71f",
   "metadata": {},
   "outputs": [
    {
     "data": {
      "text/plain": [
       "array([7, 2, 1], dtype=int64)"
      ]
     },
     "execution_count": 50,
     "metadata": {},
     "output_type": "execute_result"
    }
   ],
   "source": [
    "y_pred = np.argmax(y_prob, axis=-1)\n",
    "y_pred"
   ]
  },
  {
   "cell_type": "code",
   "execution_count": 51,
   "id": "1b84d920",
   "metadata": {},
   "outputs": [
    {
     "data": {
      "text/plain": [
       "array([7, 2, 1], dtype=uint8)"
      ]
     },
     "execution_count": 51,
     "metadata": {},
     "output_type": "execute_result"
    }
   ],
   "source": [
    "y_test_new = y_test[:3]\n",
    "y_test_new"
   ]
  },
  {
   "cell_type": "code",
   "execution_count": 52,
   "id": "003473f5",
   "metadata": {},
   "outputs": [
    {
     "data": {
      "image/png": "[encoded data removed]",
      "text/plain": [
       "<Figure size 432x288 with 1 Axes>"
      ]
     },
     "metadata": {
      "needs_background": "light"
     },
     "output_type": "display_data"
    },
    {
     "name": "stdout",
     "output_type": "stream",
     "text": [
      "###########\n"
     ]
    },
    {
     "data": {
      "image/png": "[encoded data removed]",
      "text/plain": [
       "<Figure size 432x288 with 1 Axes>"
      ]
     },
     "metadata": {
      "needs_background": "light"
     },
     "output_type": "display_data"
    },
    {
     "name": "stdout",
     "output_type": "stream",
     "text": [
      "###########\n"
     ]
    },
    {
     "data": {
      "image/png": "[encoded data removed]",
      "text/plain": [
       "<Figure size 432x288 with 1 Axes>"
      ]
     },
     "metadata": {
      "needs_background": "light"
     },
     "output_type": "display_data"
    },
    {
     "name": "stdout",
     "output_type": "stream",
     "text": [
      "###########\n"
     ]
    }
   ],
   "source": [
    "for data, pred, actual in zip(X_new, y_pred, y_test_new):\n",
    "  plt.imshow(data, cmap=\"binary\")\n",
    "  plt.title(f\"Predicted: {pred}, Actual: {actual}\")\n",
    "  plt.axis(\"off\")\n",
    "  plt.show()\n",
    "  print(\"###########\")\n",
    "\n"
   ]
  },
  {
   "cell_type": "code",
   "execution_count": 53,
   "id": "5e4f630b",
   "metadata": {},
   "outputs": [],
   "source": [
    "%load_ext tensorboard"
   ]
  },
  {
   "cell_type": "code",
   "execution_count": 54,
   "id": "adee7be2",
   "metadata": {},
   "outputs": [
    {
     "data": {
      "text/plain": [
       "Launching TensorBoard..."
      ]
     },
     "metadata": {},
     "output_type": "display_data"
    }
   ],
   "source": [
    "%tensorboard --logdir logs/fit"
   ]
  },
  {
   "cell_type": "code",
   "execution_count": 55,
   "id": "f2a4f1f0",
   "metadata": {},
   "outputs": [
    {
     "data": {
      "text/plain": [
       "'D:\\\\New folder (3)\\\\MNIST'"
      ]
     },
     "execution_count": 55,
     "metadata": {},
     "output_type": "execute_result"
    }
   ],
   "source": [
    "%pwd"
   ]
  },
  {
   "cell_type": "code",
   "execution_count": 56,
   "id": "070eec9b",
   "metadata": {},
   "outputs": [],
   "source": [
    "import tensorflow\n"
   ]
  }
 ],
 "metadata": {
  "kernelspec": {
   "display_name": "Python 3 (ipykernel)",
   "language": "python",
   "name": "python3"
  },
  "language_info": {
   "codemirror_mode": {
    "name": "ipython",
    "version": 3
   },
   "file_extension": ".py",
   "mimetype": "text/x-python",
   "name": "python",
   "nbconvert_exporter": "python",
   "pygments_lexer": "ipython3",
   "version": "3.8.13"
  }
 },
 "nbformat": 4,
 "nbformat_minor": 5
}
